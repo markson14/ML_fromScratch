{
 "cells": [
  {
   "cell_type": "code",
   "execution_count": 1,
   "metadata": {},
   "outputs": [],
   "source": [
    "import torch as torch\n",
    "import torchvision"
   ]
  },
  {
   "cell_type": "markdown",
   "metadata": {},
   "source": [
    "# AutoEncoder\n",
    "![denoising-autoencoder-architecture](./denoising-autoencoder-architecture.png)"
   ]
  },
  {
   "cell_type": "code",
   "execution_count": 8,
   "metadata": {},
   "outputs": [],
   "source": [
    "# HyperParameters\n",
    "epoches = 10\n",
    "batch_size = 64\n",
    "LR = 0.001\n",
    "\n",
    "# Dataset\n",
    "train_data = torchvision.datasets.MNIST(\n",
    "    root='./cifar10',\n",
    "    train = True,\n",
    "    transform = torchvision.transforms.ToTensor(),\n",
    "    download = True)"
   ]
  },
  {
   "cell_type": "code",
   "execution_count": 3,
   "metadata": {},
   "outputs": [],
   "source": [
    "class AutoEncoder(torch.nn.Module):\n",
    "    def __init__(self):\n",
    "        super(AutoEncoder, self).__init__()\n",
    "\n",
    "        self.encoder = torch.nn.Sequential(\n",
    "            torch.nn.Linear(28*28,128),\n",
    "            torch.nn.ReLU(),\n",
    "            torch.nn.Linear(128,64),\n",
    "            torch.nn.ReLU(),\n",
    "            torch.nn.Linear(64,12),\n",
    "            torch.nn.ReLU(),\n",
    "            torch.nn.Linear(12,3),\n",
    "            torch.nn.ReLU(),\n",
    "        )\n",
    "\n",
    "        self.decoder = torch.nn.Sequential(\n",
    "            torch.nn.Linear(3,12),\n",
    "            torch.nn.ReLU(),\n",
    "            torch.nn.Linear(12,64),\n",
    "            torch.nn.ReLU(),\n",
    "            torch.nn.Linear(64,128),\n",
    "            torch.nn.ReLU(),\n",
    "            torch.nn.Linear(128,28*28),\n",
    "            torch.nn.Sigmoid(),\n",
    "        )\n",
    "    \n",
    "    def forward(self,x):\n",
    "        encode = self.encoder(x)\n",
    "        decode = self.decoder(encode)\n",
    "        return encode,decode"
   ]
  },
  {
   "cell_type": "code",
   "execution_count": 9,
   "metadata": {},
   "outputs": [
    {
     "name": "stdout",
     "output_type": "stream",
     "text": [
      "Epoch 0 | train loss: 0.2286\n",
      "Epoch 0 | train loss: 0.0622\n",
      "Epoch 0 | train loss: 0.0476\n",
      "Epoch 0 | train loss: 0.0525\n",
      "Epoch 0 | train loss: 0.0814\n",
      "Epoch 0 | train loss: 0.0578\n",
      "Epoch 0 | train loss: 0.0382\n",
      "Epoch 0 | train loss: 0.0485\n",
      "Epoch 0 | train loss: 0.0562\n",
      "Epoch 0 | train loss: 0.0363\n",
      "Epoch 0 | train loss: 0.0546\n",
      "Epoch 0 | train loss: 0.0455\n",
      "Epoch 0 | train loss: 0.0234\n",
      "Epoch 0 | train loss: 0.0450\n",
      "Epoch 0 | train loss: 0.0564\n",
      "Epoch 0 | train loss: 0.0397\n",
      "Epoch 0 | train loss: 0.0569\n",
      "Epoch 0 | train loss: 0.0299\n",
      "Epoch 0 | train loss: 0.0679\n",
      "Epoch 0 | train loss: 0.0604\n",
      "Epoch 0 | train loss: 0.0680\n",
      "Epoch 0 | train loss: 0.0406\n",
      "Epoch 0 | train loss: 0.0743\n",
      "Epoch 0 | train loss: 0.0520\n",
      "Epoch 0 | train loss: 0.0803\n",
      "Epoch 0 | train loss: 0.0492\n",
      "Epoch 0 | train loss: 0.0357\n",
      "Epoch 0 | train loss: 0.0942\n",
      "Epoch 0 | train loss: 0.0417\n",
      "Epoch 0 | train loss: 0.0570\n",
      "Epoch 0 | train loss: 0.0517\n",
      "Epoch 0 | train loss: 0.0439\n",
      "Epoch 0 | train loss: 0.0566\n",
      "Epoch 0 | train loss: 0.0782\n",
      "Epoch 0 | train loss: 0.0510\n",
      "Epoch 0 | train loss: 0.0480\n",
      "Epoch 0 | train loss: 0.0426\n",
      "Epoch 0 | train loss: 0.0720\n",
      "Epoch 0 | train loss: 0.0294\n",
      "Epoch 0 | train loss: 0.0151\n",
      "Epoch 0 | train loss: 0.0533\n",
      "Epoch 0 | train loss: 0.0632\n",
      "Epoch 0 | train loss: 0.0485\n",
      "Epoch 0 | train loss: 0.0151\n",
      "Epoch 0 | train loss: 0.0459\n",
      "Epoch 0 | train loss: 0.0809\n",
      "Epoch 0 | train loss: 0.0630\n",
      "Epoch 0 | train loss: 0.0490\n",
      "Epoch 0 | train loss: 0.0559\n",
      "Epoch 0 | train loss: 0.0298\n",
      "Epoch 0 | train loss: 0.0669\n",
      "Epoch 0 | train loss: 0.0307\n",
      "Epoch 0 | train loss: 0.0424\n",
      "Epoch 0 | train loss: 0.0565\n",
      "Epoch 0 | train loss: 0.0604\n",
      "Epoch 0 | train loss: 0.0211\n",
      "Epoch 0 | train loss: 0.0571\n",
      "Epoch 0 | train loss: 0.0445\n",
      "Epoch 0 | train loss: 0.0705\n",
      "Epoch 0 | train loss: 0.0717\n",
      "Epoch 0 | train loss: 0.0379\n",
      "Epoch 0 | train loss: 0.0558\n",
      "Epoch 0 | train loss: 0.0686\n",
      "Epoch 0 | train loss: 0.0484\n",
      "Epoch 0 | train loss: 0.0696\n"
     ]
    },
    {
     "ename": "KeyboardInterrupt",
     "evalue": "",
     "output_type": "error",
     "traceback": [
      "\u001b[0;31m---------------------------------------------------------------------------\u001b[0m",
      "\u001b[0;31mKeyboardInterrupt\u001b[0m                         Traceback (most recent call last)",
      "\u001b[0;32m<ipython-input-9-5bd729507b71>\u001b[0m in \u001b[0;36m<module>\u001b[0;34m()\u001b[0m\n\u001b[1;32m     13\u001b[0m         \u001b[0moptimizer\u001b[0m\u001b[0;34m.\u001b[0m\u001b[0mzero_grad\u001b[0m\u001b[0;34m(\u001b[0m\u001b[0;34m)\u001b[0m\u001b[0;34m\u001b[0m\u001b[0m\n\u001b[1;32m     14\u001b[0m         \u001b[0mloss\u001b[0m\u001b[0;34m.\u001b[0m\u001b[0mbackward\u001b[0m\u001b[0;34m(\u001b[0m\u001b[0;34m)\u001b[0m\u001b[0;34m\u001b[0m\u001b[0m\n\u001b[0;32m---> 15\u001b[0;31m         \u001b[0moptimizer\u001b[0m\u001b[0;34m.\u001b[0m\u001b[0mstep\u001b[0m\u001b[0;34m(\u001b[0m\u001b[0;34m)\u001b[0m\u001b[0;34m\u001b[0m\u001b[0m\n\u001b[0m\u001b[1;32m     16\u001b[0m \u001b[0;34m\u001b[0m\u001b[0m\n\u001b[1;32m     17\u001b[0m         \u001b[0;32mif\u001b[0m \u001b[0mstep\u001b[0m \u001b[0;34m%\u001b[0m \u001b[0;36m100\u001b[0m \u001b[0;34m==\u001b[0m \u001b[0;36m0\u001b[0m\u001b[0;34m:\u001b[0m\u001b[0;34m\u001b[0m\u001b[0m\n",
      "\u001b[0;32m/usr/local/lib/python3.6/site-packages/torch/optim/adam.py\u001b[0m in \u001b[0;36mstep\u001b[0;34m(self, closure)\u001b[0m\n\u001b[1;32m    105\u001b[0m                 \u001b[0mstep_size\u001b[0m \u001b[0;34m=\u001b[0m \u001b[0mgroup\u001b[0m\u001b[0;34m[\u001b[0m\u001b[0;34m'lr'\u001b[0m\u001b[0;34m]\u001b[0m \u001b[0;34m*\u001b[0m \u001b[0mmath\u001b[0m\u001b[0;34m.\u001b[0m\u001b[0msqrt\u001b[0m\u001b[0;34m(\u001b[0m\u001b[0mbias_correction2\u001b[0m\u001b[0;34m)\u001b[0m \u001b[0;34m/\u001b[0m \u001b[0mbias_correction1\u001b[0m\u001b[0;34m\u001b[0m\u001b[0m\n\u001b[1;32m    106\u001b[0m \u001b[0;34m\u001b[0m\u001b[0m\n\u001b[0;32m--> 107\u001b[0;31m                 \u001b[0mp\u001b[0m\u001b[0;34m.\u001b[0m\u001b[0mdata\u001b[0m\u001b[0;34m.\u001b[0m\u001b[0maddcdiv_\u001b[0m\u001b[0;34m(\u001b[0m\u001b[0;34m-\u001b[0m\u001b[0mstep_size\u001b[0m\u001b[0;34m,\u001b[0m \u001b[0mexp_avg\u001b[0m\u001b[0;34m,\u001b[0m \u001b[0mdenom\u001b[0m\u001b[0;34m)\u001b[0m\u001b[0;34m\u001b[0m\u001b[0m\n\u001b[0m\u001b[1;32m    108\u001b[0m \u001b[0;34m\u001b[0m\u001b[0m\n\u001b[1;32m    109\u001b[0m         \u001b[0;32mreturn\u001b[0m \u001b[0mloss\u001b[0m\u001b[0;34m\u001b[0m\u001b[0m\n",
      "\u001b[0;31mKeyboardInterrupt\u001b[0m: "
     ]
    }
   ],
   "source": [
    "vae = AutoEncoder()\n",
    "optimizer = torch.optim.Adam(vae.parameters(), lr=LR)\n",
    "loss_func = torch.nn.MSELoss()\n",
    "\n",
    "for epoch in range(epoches):\n",
    "    for step, (x,b_label) in enumerate(train_data):\n",
    "        b_x = x.view(-1, 28*28)\n",
    "        b_y = x.view(-1, 28*28)\n",
    "#         print(b_x, b_y)\n",
    "        encode, decode = vae(b_x)\n",
    "\n",
    "        loss = loss_func(decode, b_y)\n",
    "        optimizer.zero_grad()\n",
    "        loss.backward()\n",
    "        optimizer.step()\n",
    "\n",
    "        if step % 100 == 0:\n",
    "            print(\"Epoch\", epoch, '| train loss: %.4f' % loss.data)\n",
    "            \n",
    "            \n",
    "\n",
    "# 要观看的数据\n",
    "view_data = train_data.train_data[:200].view(-1, 28*28).type(torch.FloatTensor)/255.\n",
    "encoded_data, _ = autoencoder(view_data)    # 提取压缩的特征值\n",
    "fig = plt.figure(2)\n",
    "ax = Axes3D(fig)    # 3D 图\n",
    "# x, y, z 的数据值\n",
    "X = encoded_data.data[:, 0].numpy()\n",
    "Y = encoded_data.data[:, 1].numpy()\n",
    "Z = encoded_data.data[:, 2].numpy()\n",
    "values = train_data.train_labels[:200].numpy()  # 标签值\n",
    "for x, y, z, s in zip(X, Y, Z, values):\n",
    "    c = cm.rainbow(int(255*s/9))    # 上色\n",
    "    ax.text(x, y, z, s, backgroundcolor=c)  # 标位子\n",
    "ax.set_xlim(X.min(), X.max())\n",
    "ax.set_ylim(Y.min(), Y.max())\n",
    "ax.set_zlim(Z.min(), Z.max())\n",
    "plt.show()"
   ]
  },
  {
   "cell_type": "markdown",
   "metadata": {},
   "source": [
    "# KL Divergence\n",
    "测量分布相似度\n",
    "![forward_vs_reversed_KL](./forward_vs_reversed_KL.png)"
   ]
  },
  {
   "cell_type": "markdown",
   "metadata": {},
   "source": [
    "# VAE\n",
    "![vae-gaussian](./vae-gaussian.png)"
   ]
  }
 ],
 "metadata": {
  "kernelspec": {
   "display_name": "Python 3",
   "language": "python",
   "name": "python3"
  },
  "language_info": {
   "codemirror_mode": {
    "name": "ipython",
    "version": 3
   },
   "file_extension": ".py",
   "mimetype": "text/x-python",
   "name": "python",
   "nbconvert_exporter": "python",
   "pygments_lexer": "ipython3",
   "version": "3.6.5"
  }
 },
 "nbformat": 4,
 "nbformat_minor": 2
}
