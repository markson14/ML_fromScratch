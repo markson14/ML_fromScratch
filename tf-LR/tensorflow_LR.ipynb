{
 "cells": [
  {
   "cell_type": "code",
   "execution_count": 1,
   "metadata": {},
   "outputs": [
    {
     "name": "stderr",
     "output_type": "stream",
     "text": [
      "/Users/marksonzhang/Library/Python/3.6/lib/python/site-packages/sklearn/cross_validation.py:41: DeprecationWarning: This module was deprecated in version 0.18 in favor of the model_selection module into which all the refactored classes and functions are moved. Also note that the interface of the new CV iterators are different from that of this module. This module will be removed in 0.20.\n",
      "  \"This module will be removed in 0.20.\", DeprecationWarning)\n"
     ]
    }
   ],
   "source": [
    "import tensorflow as tf\n",
    "import pandas as pd\n",
    "import numpy as np\n",
    "import matplotlib.pyplot as plt\n",
    "import seaborn\n",
    "from sklearn.cross_validation import train_test_split\n",
    "import random"
   ]
  },
  {
   "cell_type": "code",
   "execution_count": 2,
   "metadata": {},
   "outputs": [],
   "source": [
    "train_df = pd.read_csv('datatraining.txt')\n",
    "\n",
    "train = train_df.drop(['date'],axis=1)\n",
    "\n",
    "label = train_df['Occupancy']\n",
    "train = train.drop(['Occupancy'],axis=1)\n",
    "\n",
    "x_train, x_test,y_train,y_test = train_test_split(train, label.values.reshape(-1, 1) ,random_state = 42)\n",
    "\n",
    "# One hot coded\n",
    "y_train = tf.concat([1 - y_train, y_train],axis=1)\n",
    "y_test = tf.concat([1 - y_test, y_test],axis=1)"
   ]
  },
  {
   "cell_type": "code",
   "execution_count": 7,
   "metadata": {},
   "outputs": [],
   "source": [
    "# 设置模型\n",
    "learning_rate = 0.001\n",
    "training_epochs = 20\n",
    "batch_size = 100\n",
    "display_step = 1"
   ]
  },
  {
   "cell_type": "code",
   "execution_count": 8,
   "metadata": {},
   "outputs": [],
   "source": [
    "n_samples = x_train.shape[0]\n",
    "n_features = 5\n",
    "n_class = 2\n",
    "x = tf.placeholder(tf.float32, [None, n_features])\n",
    "y = tf.placeholder(tf.float32, [None, n_class])"
   ]
  },
  {
   "cell_type": "code",
   "execution_count": 9,
   "metadata": {},
   "outputs": [],
   "source": [
    "W = tf.Variable(tf.zeros([n_features, n_class]))\n",
    "b = tf.Variable(tf.zeros([n_class]))"
   ]
  },
  {
   "cell_type": "code",
   "execution_count": 10,
   "metadata": {},
   "outputs": [],
   "source": [
    "pred = tf.matmul(x, W) + b"
   ]
  },
  {
   "cell_type": "code",
   "execution_count": 11,
   "metadata": {},
   "outputs": [
    {
     "name": "stdout",
     "output_type": "stream",
     "text": [
      "WARNING:tensorflow:From <ipython-input-11-599fc5eb4918>:2: softmax_cross_entropy_with_logits (from tensorflow.python.ops.nn_ops) is deprecated and will be removed in a future version.\n",
      "Instructions for updating:\n",
      "\n",
      "Future major versions of TensorFlow will allow gradients to flow\n",
      "into the labels input on backprop by default.\n",
      "\n",
      "See tf.nn.softmax_cross_entropy_with_logits_v2.\n",
      "\n",
      "WARNING:tensorflow:From /Library/Frameworks/Python.framework/Versions/3.6/lib/python3.6/site-packages/tensorflow/python/util/tf_should_use.py:118: initialize_all_variables (from tensorflow.python.ops.variables) is deprecated and will be removed after 2017-03-02.\n",
      "Instructions for updating:\n",
      "Use `tf.global_variables_initializer` instead.\n",
      "Epoch: 0001 cost= 0.4020115273897765\n",
      "Epoch: 0002 cost= 0.3841859160876665\n",
      "Epoch: 0003 cost= 0.174329616984383\n",
      "Epoch: 0004 cost= 0.1143276026991547\n",
      "Epoch: 0005 cost= 0.1171866479467173\n",
      "Epoch: 0006 cost= 0.139226460065998\n",
      "Epoch: 0007 cost= 0.2271726170524222\n",
      "Epoch: 0008 cost= 0.1280033392984359\n",
      "Epoch: 0009 cost= 0.10287417740118308\n",
      "Epoch: 0010 cost= 0.05597935739110728\n",
      "Epoch: 0011 cost= 0.07625366429813572\n",
      "Epoch: 0012 cost= 0.06677909757270188\n",
      "Epoch: 0013 cost= 0.048221525598744874\n",
      "Epoch: 0014 cost= 0.11155011223965004\n",
      "Epoch: 0015 cost= 0.08675251632440285\n",
      "Epoch: 0016 cost= 0.0572466537600658\n",
      "Epoch: 0017 cost= 0.08121372441776463\n",
      "Epoch: 0018 cost= 0.03486135357716044\n",
      "Epoch: 0019 cost= 0.055104775506942\n",
      "Epoch: 0020 cost= 0.0485081750838483\n",
      "Optimization Finished!\n",
      "Testing Accuracy: 0.9395775\n"
     ]
    },
    {
     "data": {
      "image/png": "[encoded data removed]",
      "text/plain": [
       "<Figure size 432x288 with 1 Axes>"
      ]
     },
     "metadata": {},
     "output_type": "display_data"
    }
   ],
   "source": [
    "# 损失函数\n",
    "cost = tf.reduce_mean(tf.nn.softmax_cross_entropy_with_logits(logits=pred,labels=y))\n",
    "\n",
    "# 梯度下降\n",
    "optimizer = tf.train.GradientDescentOptimizer(learning_rate).minimize(cost)\n",
    "\n",
    "# 准确率\n",
    "correct_prediction = tf.equal(tf.argmax(pred, 1), tf.argmax(y, 1))\n",
    "accuracy = tf.reduce_mean(tf.cast(correct_prediction, tf.float32))\n",
    "\n",
    "# 初始化所有变量\n",
    "init = tf.initialize_all_variables()\n",
    "\n",
    "# 训练模型\n",
    "with tf.Session() as sess:\n",
    "    sess.run(init)\n",
    "    for epoch in range(training_epochs):\n",
    "        avg_cost = 0\n",
    "        total_batch = int(n_samples / batch_size)\n",
    "        for i in range(total_batch):\n",
    "            _, c = sess.run([optimizer, cost], \n",
    "                            feed_dict={x: x_train[i * batch_size : (i+1) * batch_size], \n",
    "                                      y: y_train[i * batch_size : (i+1) * batch_size, :].eval()})\n",
    "            avg_cost = c / total_batch\n",
    "        plt.plot(epoch+1, avg_cost, 'co')\n",
    "\n",
    "        if (epoch+1) % display_step == 0:\n",
    "            print(\"Epoch:\", \"%04d\" % (epoch+1), \"cost=\", avg_cost)\n",
    "\n",
    "    print(\"Optimization Finished!\")\n",
    "\n",
    "    print(\"Testing Accuracy:\", accuracy.eval({x: x_train, y:y_train.eval()}))\n",
    "    plt.xlabel(\"Epoch\")\n",
    "    plt.ylabel(\"Cost\")\n",
    "    plt.show()"
   ]
  },
  {
   "cell_type": "code",
   "execution_count": null,
   "metadata": {},
   "outputs": [],
   "source": []
  }
 ],
 "metadata": {
  "kernelspec": {
   "display_name": "Python 3",
   "language": "python",
   "name": "python3"
  },
  "language_info": {
   "codemirror_mode": {
    "name": "ipython",
    "version": 3
   },
   "file_extension": ".py",
   "mimetype": "text/x-python",
   "name": "python",
   "nbconvert_exporter": "python",
   "pygments_lexer": "ipython3",
   "version": "3.6.5"
  }
 },
 "nbformat": 4,
 "nbformat_minor": 2
}
